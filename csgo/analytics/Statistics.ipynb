{
 "cells": [
  {
   "cell_type": "code",
   "execution_count": 1,
   "id": "e5a62641",
   "metadata": {},
   "outputs": [],
   "source": [
    "from csgo.parser import DemoParser\n",
    "import pandas as pd\n",
    "import operator\n",
    "pd.set_option('display.max_columns', None)"
   ]
  },
  {
   "cell_type": "code",
   "execution_count": 2,
   "id": "cb0c6d56",
   "metadata": {},
   "outputs": [
    {
     "name": "stderr",
     "output_type": "stream",
     "text": [
      "02:13:43 [INFO] Go version>=1.14.0\n",
      "02:13:43 [INFO] Initialized CSGODemoParser with demofile C:\\Users\\aagrawal-22\\CSGO_Demofiles\\gambit-vs-natus-vincere-m1-dust2.dem\n",
      "02:13:43 [INFO] Setting demo id to GA-NaVi-BLAST2021\n",
      "02:13:43 [INFO] Setting parse rate to 128\n",
      "02:13:43 [INFO] Running Golang parser from C:\\Users\\aagrawal-22\\Anaconda3\\lib\\site-packages\\csgo-0.1-py3.8.egg\\csgo\\parser\\\n",
      "02:13:43 [INFO] Looking for file at C:\\Users\\aagrawal-22\\CSGO_Demofiles\\gambit-vs-natus-vincere-m1-dust2.dem\n",
      "02:14:12 [INFO] Wrote demo parse output to GA-NaVi-BLAST2021.json\n",
      "02:14:12 [INFO] Reading in JSON from GA-NaVi-BLAST2021.json\n",
      "02:14:13 [INFO] JSON data loaded, available in the `json` attribute to parser\n",
      "02:14:13 [INFO] Successfully parsed JSON output\n",
      "02:14:13 [INFO] Successfully returned JSON output\n",
      "02:14:13 [INFO] Parsed rounds to Pandas DataFrame\n",
      "02:14:13 [INFO] Parsed kills to Pandas DataFrame\n",
      "02:14:13 [INFO] Parsed damages to Pandas DataFrame\n",
      "02:14:13 [INFO] Parsed grenades to Pandas DataFrame\n",
      "02:14:13 [INFO] Parsed flashes to Pandas DataFrame\n",
      "02:14:13 [INFO] Parsed bomb_events to Pandas DataFrame\n",
      "02:14:13 [INFO] Parsed frames to Pandas DataFrame\n",
      "02:14:14 [INFO] Parsed player frames to Pandas DataFrame\n",
      "02:14:14 [INFO] Returned dataframe output\n"
     ]
    }
   ],
   "source": [
    "demo_parser = DemoParser(demofile = \"../../../CSGO_Demofiles/gambit-vs-natus-vincere-m1-dust2.dem\", demo_id = \"GA-NaVi-BLAST2021\", parse_rate=128)\n",
    "data_df = demo_parser.parse(return_type=\"df\")"
   ]
  },
  {
   "cell_type": "code",
   "execution_count": 3,
   "id": "f9f7fc78",
   "metadata": {},
   "outputs": [],
   "source": [
    "def extract_numeric_filters(filters,key): \n",
    "# function that extracts the logical operators and numerical values from each value of the specified key\n",
    "    # param filters: a dictionary where the keys are the columns to filter the dataframe by and the values are the filters\n",
    "    # param key: the key in param filters to check the values for\n",
    "# raises an Exception if there is an invalid logic operator or numerical value in a value of the specified key \n",
    "# returns a list with all of the logical operators and a list with all of the numerical values found in the key's values\n",
    "    sign_list,val_list=[],[] \n",
    "    for index in filters[key]:\n",
    "        if not isinstance(index,str):\n",
    "            raise ValueError(\"Filter(s) for column \"+f'\"{key}\"'+\" must be of type string\")\n",
    "        i,sign=0,\"\"\n",
    "        while i<len(index) and not index[i].isdecimal(): \n",
    "            sign+=index[i] \n",
    "            end_index=i \n",
    "            i+=1\n",
    "        if sign not in ('==','!=','<=','>=','<','>'): \n",
    "            raise Exception(\"Invalid logical operator in filters for \"+f'\"{key}\"'+\" column\") \n",
    "        sign_list.append(sign) \n",
    "        try:\n",
    "            val_list.append(float(index[end_index+1:])) \n",
    "        except ValueError as ve:\n",
    "            raise Exception(\"Invalid numerical value in filters for \"+f'\"{key}\"'+\" column\") from ve    \n",
    "    return sign_list,val_list "
   ]
  },
  {
   "cell_type": "code",
   "execution_count": 4,
   "id": "3e5eb210",
   "metadata": {},
   "outputs": [],
   "source": [
    "def check_filters(df,filters):\n",
    "# function that checks if the filters are valid by iterating over the values for each key and checking their type for columns of object and boolean types \n",
    "# and calling the function extract_numeric_filters for columns of integer and float types\n",
    "    # param df: the dataframe to be filtered\n",
    "    # param filters: a dictionary where the keys are the columns to filter the dataframe by and the values are the filters\n",
    "# raises Exceptions if there is a type mismatch for string and boolean columns or through the function extract_numeric_filters \n",
    "    for key in filters:\n",
    "        if df.dtypes[key]==\"O\":\n",
    "            for index in filters[key]: \n",
    "                if not isinstance(index,str): \n",
    "                    raise ValueError(\"Filter(s) for column \"+f'\"{key}\"'+\" must be of type string\")\n",
    "        elif df.dtypes[key]==\"bool\":\n",
    "            for index in filters[key]: \n",
    "                if not isinstance(index,bool): \n",
    "                    raise ValueError(\"Filter(s) for column \"+f'\"{key}\"'+\" must be of type boolean\")\n",
    "        else:\n",
    "            extract_numeric_filters(filters,key)  "
   ]
  },
  {
   "cell_type": "code",
   "execution_count": 5,
   "id": "53351d76",
   "metadata": {},
   "outputs": [],
   "source": [
    "def logical_operation(df,col,sign,val):\n",
    "# function that filters the given dataframe given a logical operator and a numerical value\n",
    "    # param df: the dataframe to be filtered\n",
    "    # param col: the column of the dataframe to be filtered \n",
    "    # param sign: the logical operator \n",
    "    # param val: the numerical value to filter the column by \n",
    "# returns a filtered copy of the dataframe\n",
    "    operations={\"==\":operator.eq(df[col],val),\"!=\":operator.ne(df[col],val),\n",
    "                \"<=\":operator.le(df[col],val),\">=\":operator.ge(df[col],val),\n",
    "                \"<\":operator.lt(df[col],val),\">\":operator.gt(df[col],val)}\n",
    "    filtered_dataframe=df.loc[operations[sign]]\n",
    "    return filtered_dataframe"
   ]
  },
  {
   "cell_type": "code",
   "execution_count": 6,
   "id": "7d083ccd",
   "metadata": {},
   "outputs": [],
   "source": [
    "def filter_dataframe(df,filters): \n",
    "# function that filters the given dataframe given filters\n",
    "    # param df: the dataframe to be filtered\n",
    "    # param filters: a dictionary where the keys are the columns to filter the dataframe by and the values are the filters\n",
    "# returns a filtered copy of the dataframe\n",
    "    df_copy=df.copy() \n",
    "    check_filters(df_copy,filters) \n",
    "    for key in filters:\n",
    "        if df_copy.dtypes[key]=='O' or df_copy.dtypes[key]=='bool': \n",
    "            df_copy=df_copy.loc[df_copy[key].isin(filters[key])]\n",
    "        else:\n",
    "            i=0\n",
    "            for sign in extract_numeric_filters(filters,key)[0]:\n",
    "                val=extract_numeric_filters(filters,key)[1][i]\n",
    "                df_copy=logical_operation(df_copy,key,extract_numeric_filters(filters,key)[0][i],val)\n",
    "                i+=1\n",
    "    return df_copy   "
   ]
  },
  {
   "cell_type": "code",
   "execution_count": 7,
   "id": "096dc508",
   "metadata": {},
   "outputs": [],
   "source": [
    "def calculate_statistics(df,filters,col_to_groupby,col_to_agg,agg,new_col_names): \n",
    "# function that filters, groups, and aggregates the data in a copy of the given dataframe\n",
    "    # param df: the dataframe to be filtered\n",
    "    # param filters: a dictionary where the keys are the columns to filter the dataframe by and the values are the filters\n",
    "        # keys must be of type string and values must be of type list\n",
    "    # param col_to_groupby: a list of the column(s) of the dataframe to group by\n",
    "        # column names must be of type string\n",
    "    # param col_to_agg: a list of the column(s) of the dataframe to aggregate \n",
    "        # column names must be of type string\n",
    "    # param agg: a list of the the function(s) to aggregate the columns by \n",
    "        # functions must be of type string and in a list within the larger list, example: [[\"count\"],[\"max\",\"min\"]]\n",
    "    # param new_col_names: a list of the new column names \n",
    "        # new column names must be of type string\n",
    "# raises Exceptions through the function filter_dataframe\n",
    "# returns a filtered, grouped, and aggregated copy of the given dataframe \n",
    "    df_copy=filter_dataframe(df,filters)\n",
    "    agg_dict=dict(zip(col_to_agg,agg))\n",
    "    df_copy=df_copy.groupby(col_to_groupby).agg(agg_dict).reset_index()\n",
    "    df_copy.columns=new_col_names\n",
    "    return df_copy"
   ]
  },
  {
   "cell_type": "code",
   "execution_count": 8,
   "id": "bb7054c1",
   "metadata": {},
   "outputs": [
    {
     "data": {
      "text/html": [
       "<div>\n",
       "<style scoped>\n",
       "    .dataframe tbody tr th:only-of-type {\n",
       "        vertical-align: middle;\n",
       "    }\n",
       "\n",
       "    .dataframe tbody tr th {\n",
       "        vertical-align: top;\n",
       "    }\n",
       "\n",
       "    .dataframe thead th {\n",
       "        text-align: right;\n",
       "    }\n",
       "</style>\n",
       "<table border=\"1\" class=\"dataframe\">\n",
       "  <thead>\n",
       "    <tr style=\"text-align: right;\">\n",
       "      <th></th>\n",
       "      <th>PlayerName</th>\n",
       "      <th>Kills</th>\n",
       "    </tr>\n",
       "  </thead>\n",
       "  <tbody>\n",
       "    <tr>\n",
       "      <th>0</th>\n",
       "      <td>Boombl4</td>\n",
       "      <td>12</td>\n",
       "    </tr>\n",
       "    <tr>\n",
       "      <th>1</th>\n",
       "      <td>Perfecto</td>\n",
       "      <td>10</td>\n",
       "    </tr>\n",
       "    <tr>\n",
       "      <th>2</th>\n",
       "      <td>b1t</td>\n",
       "      <td>24</td>\n",
       "    </tr>\n",
       "    <tr>\n",
       "      <th>3</th>\n",
       "      <td>electronic</td>\n",
       "      <td>18</td>\n",
       "    </tr>\n",
       "    <tr>\n",
       "      <th>4</th>\n",
       "      <td>s1mple</td>\n",
       "      <td>22</td>\n",
       "    </tr>\n",
       "  </tbody>\n",
       "</table>\n",
       "</div>"
      ],
      "text/plain": [
       "   PlayerName  Kills\n",
       "0     Boombl4     12\n",
       "1    Perfecto     10\n",
       "2         b1t     24\n",
       "3  electronic     18\n",
       "4      s1mple     22"
      ]
     },
     "execution_count": 8,
     "metadata": {},
     "output_type": "execute_result"
    }
   ],
   "source": [
    "# example: from \"Kills\" dataframe, filter rows where \"AttackerTeam\" is \"Natus Vincere\", groupby \"AttackerName\",\n",
    "# aggregate \"AttackerName\", use the aggregate function \"count\", and change the column names to \"PlayerName\" and \"Kills\" \n",
    "calculate_statistics(data_df[\"Kills\"],{\"AttackerTeam\":[\"Natus Vincere\"]},[\"AttackerName\"],[\"AttackerName\"],\n",
    "                     [[\"count\"]],[\"PlayerName\",\"Kills\"])"
   ]
  }
 ],
 "metadata": {
  "kernelspec": {
   "display_name": "Python 3",
   "language": "python",
   "name": "python3"
  },
  "language_info": {
   "codemirror_mode": {
    "name": "ipython",
    "version": 3
   },
   "file_extension": ".py",
   "mimetype": "text/x-python",
   "name": "python",
   "nbconvert_exporter": "python",
   "pygments_lexer": "ipython3",
   "version": "3.8.8"
  }
 },
 "nbformat": 4,
 "nbformat_minor": 5
}
